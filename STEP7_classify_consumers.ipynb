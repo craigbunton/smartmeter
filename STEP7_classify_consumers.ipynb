{
 "cells": [
  {
   "cell_type": "markdown",
   "metadata": {},
   "source": [
    "### In this additional step, we need to identify each LCLid's yearly consumption as either Low, Medium or High, in order to plot their consumption on separate lines.\n",
    "\n",
    "At this stage we have reduced the LCLids down to those which have a full set of datapoints just for the \n",
    "winter/summer date ranges.\n",
    "\n",
    "It is possible that a marginal number of these LCLids will have full data for the winter/summer dates but\n",
    "some missing data for the spring/autumn dates. If we discard these then we will not be able to classify \n",
    "the LCLids.\n",
    "\n",
    "Therefore there will be a small potential classification error which should only affect marginal consumers.\n",
    "\n",
    "In the next step we will add a L/M/H classification for each LCLid based on the consumer's yearly csv file.\n",
    "\n",
    "Ranges are:  \n",
    "TOO_LOW     < 1000  \n",
    "LOW         1000 -> 2699  \n",
    "MED         2700 -> 4199  \n",
    "HIGH        4200 -> 10000  \n",
    "TOO_HIGH    > 10000  \n",
    "\n",
    "\n",
    "Given that this classification needs to be referred to in several places, for the moment we will just create a new csv file containing columns: 'LCLid, 'Yearly_total' and 'class_'"
   ]
  },
  {
   "cell_type": "code",
   "execution_count": null,
   "metadata": {},
   "outputs": [],
   "source": [
    "# Using the  2013_ids.txt file, read each MACnnnnn.csv file.\n",
    "# Work out the annual consumption and classify the LCLid as L/M/H\n",
    "# Create a new csv file with this data\n",
    "\n",
    "import os\n",
    "import pandas as pd\n",
    "\n",
    "classify_df = pd.DataFrame(columns=[\"LCLid\", \"annual_KWH\", \"class_\"])\n",
    "\n",
    "for filename in os.listdir(\"data_2013\"):\n",
    "\n",
    "        if filename.startswith(\"MAC\") and filename.endswith(\".csv\"):\n",
    "            LCLid = filename.split(\".\")[0]\n",
    "            print(\"Processing: \", LCLid)\n",
    "            df = pd.read_csv(\"data_2013/\" + filename)\n",
    "            # Do some tidying up of the dataframe.\n",
    "            df.rename(columns={df.columns[-1]: 'KWH'}, inplace=True)\n",
    "            df['KWH'] = pd.to_numeric(df['KWH'], errors=\"coerce\").astype(float) # convert KWH column to float\n",
    "\n",
    "            # Work out annual consumption\n",
    "            annual_KWH = sum(df[\"KWH\"])\n",
    "\n",
    "            # Classify\n",
    "            if annual_KWH < 1000:\n",
    "                class_ = \"TOO-LOW\"\n",
    "            elif annual_KWH < 2700:\n",
    "                class_ = \"LOW\"\n",
    "            elif annual_KWH < 4200:\n",
    "                class_ = \"MED\"\n",
    "            elif annual_KWH <= 10000:\n",
    "                class_ = \"HIGH\"\n",
    "            else:\n",
    "                class_ = \"TOO-HIGH\"\n",
    "\n",
    "            # Add to dataframe\n",
    "            new_row = {\n",
    "                \"LCLid\": LCLid,\n",
    "                \"annual_KWH\": annual_KWH,\n",
    "                \"class_\": class_,\n",
    "            }\n",
    "            classify_df.loc[len(classify_df)]= new_row\n",
    "\n",
    "\n",
    "classify_df.to_csv(\"data_2013/2013_ids_classified.csv\", index=False)"
   ]
  },
  {
   "cell_type": "code",
   "execution_count": null,
   "metadata": {},
   "outputs": [],
   "source": []
  }
 ],
 "metadata": {
  "kernelspec": {
   "display_name": ".venv",
   "language": "python",
   "name": "python3"
  },
  "language_info": {
   "codemirror_mode": {
    "name": "ipython",
    "version": 3
   },
   "file_extension": ".py",
   "mimetype": "text/x-python",
   "name": "python",
   "nbconvert_exporter": "python",
   "pygments_lexer": "ipython3",
   "version": "3.11.8"
  }
 },
 "nbformat": 4,
 "nbformat_minor": 2
}
