{
 "cells": [
  {
   "cell_type": "code",
   "execution_count": 20,
   "id": "188a9fea",
   "metadata": {},
   "outputs": [],
   "source": [
    "import pandas as pd\n",
    "import numpy as np\n",
    "import matplotlib.pyplot as plt\n",
    "from datetime import datetime"
   ]
  },
  {
   "cell_type": "code",
   "execution_count": 14,
   "id": "1b39844a-a3a3-433b-827a-12d0e5f7b041",
   "metadata": {},
   "outputs": [
    {
     "data": {
      "text/html": [
       "<div>\n",
       "<style scoped>\n",
       "    .dataframe tbody tr th:only-of-type {\n",
       "        vertical-align: middle;\n",
       "    }\n",
       "\n",
       "    .dataframe tbody tr th {\n",
       "        vertical-align: top;\n",
       "    }\n",
       "\n",
       "    .dataframe thead th {\n",
       "        text-align: right;\n",
       "    }\n",
       "</style>\n",
       "<table border=\"1\" class=\"dataframe\">\n",
       "  <thead>\n",
       "    <tr style=\"text-align: right;\">\n",
       "      <th></th>\n",
       "      <th>LCLid</th>\n",
       "      <th>stdorToU</th>\n",
       "      <th>DateTime</th>\n",
       "      <th>KWH/hh (per half hour)</th>\n",
       "    </tr>\n",
       "  </thead>\n",
       "  <tbody>\n",
       "    <tr>\n",
       "      <th>0</th>\n",
       "      <td>MAC000002</td>\n",
       "      <td>Std</td>\n",
       "      <td>2012-10-12 00:30:00.0000000</td>\n",
       "      <td>0.0</td>\n",
       "    </tr>\n",
       "    <tr>\n",
       "      <th>1</th>\n",
       "      <td>MAC000002</td>\n",
       "      <td>Std</td>\n",
       "      <td>2012-10-12 01:00:00.0000000</td>\n",
       "      <td>0.0</td>\n",
       "    </tr>\n",
       "    <tr>\n",
       "      <th>2</th>\n",
       "      <td>MAC000002</td>\n",
       "      <td>Std</td>\n",
       "      <td>2012-10-12 01:30:00.0000000</td>\n",
       "      <td>0.0</td>\n",
       "    </tr>\n",
       "    <tr>\n",
       "      <th>3</th>\n",
       "      <td>MAC000002</td>\n",
       "      <td>Std</td>\n",
       "      <td>2012-10-12 02:00:00.0000000</td>\n",
       "      <td>0.0</td>\n",
       "    </tr>\n",
       "    <tr>\n",
       "      <th>4</th>\n",
       "      <td>MAC000002</td>\n",
       "      <td>Std</td>\n",
       "      <td>2012-10-12 02:30:00.0000000</td>\n",
       "      <td>0.0</td>\n",
       "    </tr>\n",
       "  </tbody>\n",
       "</table>\n",
       "</div>"
      ],
      "text/plain": [
       "       LCLid stdorToU                     DateTime  KWH/hh (per half hour) \n",
       "0  MAC000002      Std  2012-10-12 00:30:00.0000000                      0.0\n",
       "1  MAC000002      Std  2012-10-12 01:00:00.0000000                      0.0\n",
       "2  MAC000002      Std  2012-10-12 01:30:00.0000000                      0.0\n",
       "3  MAC000002      Std  2012-10-12 02:00:00.0000000                      0.0\n",
       "4  MAC000002      Std  2012-10-12 02:30:00.0000000                      0.0"
      ]
     },
     "execution_count": 14,
     "metadata": {},
     "output_type": "execute_result"
    }
   ],
   "source": [
    "df = pd.read_csv(\"data/MAC000002.csv\")\n",
    "df.head()"
   ]
  },
  {
   "cell_type": "code",
   "execution_count": 16,
   "id": "79a7acaf-a86a-4c00-b992-a976681f46db",
   "metadata": {},
   "outputs": [],
   "source": [
    "d = df['DateTime'][0:3]"
   ]
  },
  {
   "cell_type": "code",
   "execution_count": 17,
   "id": "64f4afbc-6396-4774-836a-43d948fe38f7",
   "metadata": {},
   "outputs": [
    {
     "data": {
      "text/plain": [
       "0    2012-10-12 00:30:00.0000000\n",
       "1    2012-10-12 01:00:00.0000000\n",
       "2    2012-10-12 01:30:00.0000000\n",
       "Name: DateTime, dtype: object"
      ]
     },
     "execution_count": 17,
     "metadata": {},
     "output_type": "execute_result"
    }
   ],
   "source": [
    "d"
   ]
  },
  {
   "cell_type": "code",
   "execution_count": 61,
   "id": "ecb9c2c1-cd6a-427b-8e34-d03f5a36e8fe",
   "metadata": {},
   "outputs": [
    {
     "data": {
      "text/plain": [
       "str"
      ]
     },
     "execution_count": 61,
     "metadata": {},
     "output_type": "execute_result"
    }
   ],
   "source": [
    "type(d[0])"
   ]
  },
  {
   "cell_type": "code",
   "execution_count": 63,
   "id": "c3075c1b-44f1-4936-9aea-cf31cc5bcd1a",
   "metadata": {},
   "outputs": [],
   "source": [
    "df_w_dt = dfpd.to_datetime(df[\"DateTime\"], format='%Y-%m-%d %H:%M:%S.%f0')"
   ]
  },
  {
   "cell_type": "code",
   "execution_count": 64,
   "id": "7eac49c6-16bd-4251-ba5e-89583e623e18",
   "metadata": {},
   "outputs": [
    {
     "data": {
      "text/plain": [
       "0      2012-10-12 00:30:00\n",
       "1      2012-10-12 01:00:00\n",
       "2      2012-10-12 01:30:00\n",
       "3      2012-10-12 02:00:00\n",
       "4      2012-10-12 02:30:00\n",
       "               ...        \n",
       "3235   2012-12-19 10:30:00\n",
       "3236   2012-12-19 11:00:00\n",
       "3237   2012-12-19 11:30:00\n",
       "3238   2012-12-19 12:00:00\n",
       "3239   2012-12-19 12:30:00\n",
       "Name: DateTime, Length: 3240, dtype: datetime64[ns]"
      ]
     },
     "execution_count": 64,
     "metadata": {},
     "output_type": "execute_result"
    }
   ],
   "source": [
    "df_w_dt"
   ]
  },
  {
   "cell_type": "code",
   "execution_count": 66,
   "id": "be43b842-f9f8-44d2-a798-2513d116ba8b",
   "metadata": {},
   "outputs": [
    {
     "data": {
      "text/plain": [
       "pandas.core.frame.DataFrame"
      ]
     },
     "execution_count": 66,
     "metadata": {},
     "output_type": "execute_result"
    }
   ],
   "source": [
    "type(df)"
   ]
  },
  {
   "cell_type": "code",
   "execution_count": 67,
   "id": "173e2189-ee64-42a1-8c27-99182188206d",
   "metadata": {},
   "outputs": [
    {
     "data": {
      "text/plain": [
       "pandas.core.series.Series"
      ]
     },
     "execution_count": 67,
     "metadata": {},
     "output_type": "execute_result"
    }
   ],
   "source": [
    "type(df_w_dt)"
   ]
  },
  {
   "cell_type": "code",
   "execution_count": null,
   "id": "c3d400b1-2193-4967-ba19-91dbd6e7c8b4",
   "metadata": {},
   "outputs": [],
   "source": []
  }
 ],
 "metadata": {
  "kernelspec": {
   "display_name": "Python 3 (ipykernel)",
   "language": "python",
   "name": "python3"
  },
  "language_info": {
   "codemirror_mode": {
    "name": "ipython",
    "version": 3
   },
   "file_extension": ".py",
   "mimetype": "text/x-python",
   "name": "python",
   "nbconvert_exporter": "python",
   "pygments_lexer": "ipython3",
   "version": "3.11.1"
  }
 },
 "nbformat": 4,
 "nbformat_minor": 5
}
