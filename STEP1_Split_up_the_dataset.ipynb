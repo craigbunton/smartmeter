{
 "cells": [
  {
   "cell_type": "markdown",
   "metadata": {},
   "source": [
    "\n",
    "\n",
    "### Step 1\n",
    "\n",
    "\n",
    "This script expects a folder called `data_2013` which contains the `fulldata.csv` file.\n",
    "   \n",
    "It will create a new file called `data_2013/data_2013.csv` containing only the rows  \n",
    "with the DateTime field starting with 2013.  \n",
    "\n",
    "This will reduce the input file from 8GB down to about 4.4GB.\n",
    "\n"
   ]
  },
  {
   "cell_type": "code",
   "execution_count": 1,
   "metadata": {},
   "outputs": [
    {
     "name": "stdout",
     "output_type": "stream",
     "text": [
      "Are you sure you want to run this cell? It writes 4.4GB to disk and could take a few minutes to run. (y/n) \n"
     ]
    },
    {
     "name": "stdout",
     "output_type": "stream",
     "text": [
      "Ok, not running this cell.\n"
     ]
    }
   ],
   "source": [
    "\n",
    "confirm = input(\"Are you sure you want to run this cell? It writes 4.4GB to disk and could take a few minutes to run. (y/n)\")\n",
    "if confirm.lower().startswith(\"y\"):\n",
    "    print(\"Okay, running.\")\n",
    "    import csv\n",
    "    with open('data_2013/fulldata.csv', 'r') as input_file, \\\n",
    "        open('data_2013/data_2013.csv', 'w', newline='') as output_file:\n",
    "        reader = csv.reader(input_file)\n",
    "        writer = csv.writer(output_file)\n",
    "        header = next(reader)\n",
    "        writer.writerow(header)\n",
    "        for row in reader:\n",
    "            if row[2].startswith('2013'):\n",
    "                writer.writerow(row)\n",
    "else:\n",
    "    print(\"Ok, not running this cell.\")\n"
   ]
  },
  {
   "cell_type": "markdown",
   "metadata": {},
   "source": [
    "### Step 2\n",
    "\n",
    "We still need to break down the file into smaller chunks due to the memory limitations of most   \n",
    "personal computers. This can be done many ways but I have just split the data into a single file  \n",
    "for each consumer (LCLid). We also create a list of the LCLids to use as a control file in  \n",
    "the next step."
   ]
  },
  {
   "cell_type": "code",
   "execution_count": null,
   "metadata": {},
   "outputs": [],
   "source": [
    "confirm = input(\"Are you sure you want to run this cell? It writes 5567 files to disk and could take a few minutes to run. (y/n)\")\n",
    "if confirm.lower().startswith(\"y\"):\n",
    "    print(\"Okay, running.\")\n",
    "    try:\n",
    "        with open(\"data_2013/data_2013.csv\", \"r\") as in_file, \\\n",
    "            open('data_2013/2013_ids.txt', 'w', newline='') as ids_file:\n",
    "\n",
    "            reader = csv.reader(in_file)\n",
    "            writer = csv.writer(ids_file)\n",
    "\n",
    "            column_names = next(reader)\n",
    "\n",
    "            first_line = next(reader)\n",
    "            current_LCLid = first_line[0]\n",
    "            writer.writerow([current_LCLid])\n",
    "\n",
    "            while first_line:\n",
    "                try:\n",
    "                    with open(f\"data_2013/{current_LCLid}.csv\", \"w\", newline='') as out_file:\n",
    "                        out_writer = csv.writer(out_file)\n",
    "                        out_writer.writerow(column_names)\n",
    "                        out_writer.writerow(first_line)\n",
    "\n",
    "                        while True:\n",
    "                            new_line = next(reader)\n",
    "                            if not new_line:\n",
    "                                break\n",
    "                            new_LCLid = new_line[0]\n",
    "\n",
    "                            if new_LCLid == current_LCLid:\n",
    "                                out_writer.writerow(new_line)\n",
    "                            else:\n",
    "                                first_line = new_line\n",
    "                                current_LCLid = new_LCLid\n",
    "                                writer.writerow([current_LCLid])\n",
    "                                break\n",
    "                except IOError as e:\n",
    "                    print(f\"IOError: {e}\")\n",
    "    except (FileNotFoundError, IOError) as e:\n",
    "        print(f\"Error opening file: {e}\")\n",
    "else:\n",
    "    print(\"Ok, not running this cell.\")"
   ]
  }
 ],
 "metadata": {
  "kernelspec": {
   "display_name": "Python 3 (ipykernel)",
   "language": "python",
   "name": "python3"
  },
  "language_info": {
   "codemirror_mode": {
    "name": "ipython",
    "version": 3
   },
   "file_extension": ".py",
   "mimetype": "text/x-python",
   "name": "python",
   "nbconvert_exporter": "python",
   "pygments_lexer": "ipython3",
   "version": "3.11.1"
  }
 },
 "nbformat": 4,
 "nbformat_minor": 4
}
