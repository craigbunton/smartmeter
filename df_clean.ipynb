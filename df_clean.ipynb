{
 "cells": [
  {
   "cell_type": "code",
   "execution_count": 6,
   "id": "ccf4e3e4-dab7-481c-8a48-efae69e8bd53",
   "metadata": {},
   "outputs": [],
   "source": [
    "import pandas as pd\n",
    "import numpy as np\n",
    "import matplotlib.pyplot as plt\n",
    "from datetime import datetime"
   ]
  },
  {
   "cell_type": "code",
   "execution_count": 65,
   "id": "4b6033b9-2132-4eeb-bd0e-112c24e61c90",
   "metadata": {},
   "outputs": [
    {
     "data": {
      "text/html": [
       "<div>\n",
       "<style scoped>\n",
       "    .dataframe tbody tr th:only-of-type {\n",
       "        vertical-align: middle;\n",
       "    }\n",
       "\n",
       "    .dataframe tbody tr th {\n",
       "        vertical-align: top;\n",
       "    }\n",
       "\n",
       "    .dataframe thead th {\n",
       "        text-align: right;\n",
       "    }\n",
       "</style>\n",
       "<table border=\"1\" class=\"dataframe\">\n",
       "  <thead>\n",
       "    <tr style=\"text-align: right;\">\n",
       "      <th></th>\n",
       "      <th>LCLid</th>\n",
       "      <th>stdorToU</th>\n",
       "      <th>DateTime</th>\n",
       "      <th>KWH</th>\n",
       "    </tr>\n",
       "  </thead>\n",
       "  <tbody>\n",
       "    <tr>\n",
       "      <th>0</th>\n",
       "      <td>MAC000013</td>\n",
       "      <td>Std</td>\n",
       "      <td>2012-06-21 07:30:00</td>\n",
       "      <td>0.095</td>\n",
       "    </tr>\n",
       "    <tr>\n",
       "      <th>1</th>\n",
       "      <td>MAC000013</td>\n",
       "      <td>Std</td>\n",
       "      <td>2012-06-21 08:00:00</td>\n",
       "      <td>0.146</td>\n",
       "    </tr>\n",
       "    <tr>\n",
       "      <th>2</th>\n",
       "      <td>MAC000013</td>\n",
       "      <td>Std</td>\n",
       "      <td>2012-06-21 08:30:00</td>\n",
       "      <td>0.06</td>\n",
       "    </tr>\n",
       "    <tr>\n",
       "      <th>3</th>\n",
       "      <td>MAC000013</td>\n",
       "      <td>Std</td>\n",
       "      <td>2012-06-21 09:00:00</td>\n",
       "      <td>0.093</td>\n",
       "    </tr>\n",
       "    <tr>\n",
       "      <th>4</th>\n",
       "      <td>MAC000013</td>\n",
       "      <td>Std</td>\n",
       "      <td>2012-06-21 09:30:00</td>\n",
       "      <td>0.118</td>\n",
       "    </tr>\n",
       "    <tr>\n",
       "      <th>...</th>\n",
       "      <td>...</td>\n",
       "      <td>...</td>\n",
       "      <td>...</td>\n",
       "      <td>...</td>\n",
       "    </tr>\n",
       "    <tr>\n",
       "      <th>29609</th>\n",
       "      <td>MAC000013</td>\n",
       "      <td>Std</td>\n",
       "      <td>2014-02-27 22:30:00</td>\n",
       "      <td>0.126</td>\n",
       "    </tr>\n",
       "    <tr>\n",
       "      <th>29610</th>\n",
       "      <td>MAC000013</td>\n",
       "      <td>Std</td>\n",
       "      <td>2014-02-27 23:00:00</td>\n",
       "      <td>0.147</td>\n",
       "    </tr>\n",
       "    <tr>\n",
       "      <th>29611</th>\n",
       "      <td>MAC000013</td>\n",
       "      <td>Std</td>\n",
       "      <td>2014-02-27 23:30:00</td>\n",
       "      <td>0.087</td>\n",
       "    </tr>\n",
       "    <tr>\n",
       "      <th>29612</th>\n",
       "      <td>MAC000013</td>\n",
       "      <td>Std</td>\n",
       "      <td>2014-02-28 00:00:00</td>\n",
       "      <td>0.083</td>\n",
       "    </tr>\n",
       "    <tr>\n",
       "      <th>29613</th>\n",
       "      <td>MAC000013</td>\n",
       "      <td>Std</td>\n",
       "      <td>2014-02-28 00:00:00</td>\n",
       "      <td>0.083</td>\n",
       "    </tr>\n",
       "  </tbody>\n",
       "</table>\n",
       "<p>29614 rows × 4 columns</p>\n",
       "</div>"
      ],
      "text/plain": [
       "           LCLid stdorToU            DateTime      KWH\n",
       "0      MAC000013      Std 2012-06-21 07:30:00   0.095 \n",
       "1      MAC000013      Std 2012-06-21 08:00:00   0.146 \n",
       "2      MAC000013      Std 2012-06-21 08:30:00    0.06 \n",
       "3      MAC000013      Std 2012-06-21 09:00:00   0.093 \n",
       "4      MAC000013      Std 2012-06-21 09:30:00   0.118 \n",
       "...          ...      ...                 ...      ...\n",
       "29609  MAC000013      Std 2014-02-27 22:30:00   0.126 \n",
       "29610  MAC000013      Std 2014-02-27 23:00:00   0.147 \n",
       "29611  MAC000013      Std 2014-02-27 23:30:00   0.087 \n",
       "29612  MAC000013      Std 2014-02-28 00:00:00   0.083 \n",
       "29613  MAC000013      Std 2014-02-28 00:00:00   0.083 \n",
       "\n",
       "[29614 rows x 4 columns]"
      ]
     },
     "execution_count": 65,
     "metadata": {},
     "output_type": "execute_result"
    }
   ],
   "source": [
    "df = pd.read_csv(\n",
    "    \"data/MAC000013.csv\", \n",
    "    parse_dates=['DateTime'], \n",
    "    date_format='%Y-%m-%d %H:%M:%S.%f0'\n",
    ")\n",
    "df.rename(columns={'KWH/hh (per half hour) ': 'KWH'}, inplace=True)\n",
    "df.fillna(\n",
    "    {'KWH': 0.0}\n",
    ")\n"
   ]
  },
  {
   "cell_type": "code",
   "execution_count": 66,
   "id": "14bf5d2b-2e0f-494a-941b-593306c0e15a",
   "metadata": {},
   "outputs": [
    {
     "name": "stdout",
     "output_type": "stream",
     "text": [
      "<class 'pandas.core.frame.DataFrame'>\n",
      "RangeIndex: 29614 entries, 0 to 29613\n",
      "Data columns (total 4 columns):\n",
      " #   Column    Non-Null Count  Dtype         \n",
      "---  ------    --------------  -----         \n",
      " 0   LCLid     29614 non-null  object        \n",
      " 1   stdorToU  29614 non-null  object        \n",
      " 2   DateTime  29614 non-null  datetime64[ns]\n",
      " 3   KWH       29614 non-null  object        \n",
      "dtypes: datetime64[ns](1), object(3)\n",
      "memory usage: 925.6+ KB\n"
     ]
    }
   ],
   "source": [
    "df.info()\n"
   ]
  },
  {
   "cell_type": "code",
   "execution_count": 67,
   "id": "766ed26e-e2ae-4376-b76e-61ff1ffc1eb9",
   "metadata": {},
   "outputs": [
    {
     "data": {
      "text/plain": [
       "0         0.095 \n",
       "1         0.146 \n",
       "2          0.06 \n",
       "3         0.093 \n",
       "4         0.118 \n",
       "          ...   \n",
       "29609     0.126 \n",
       "29610     0.147 \n",
       "29611     0.087 \n",
       "29612     0.083 \n",
       "29613     0.083 \n",
       "Name: KWH, Length: 29614, dtype: object"
      ]
     },
     "execution_count": 67,
     "metadata": {},
     "output_type": "execute_result"
    }
   ],
   "source": [
    " df.KWH"
   ]
  },
  {
   "cell_type": "code",
   "execution_count": 68,
   "id": "96126b6d-8072-48ad-8ac5-51abd7c07340",
   "metadata": {},
   "outputs": [
    {
     "data": {
      "text/plain": [
       "' 0.095 '"
      ]
     },
     "execution_count": 68,
     "metadata": {},
     "output_type": "execute_result"
    }
   ],
   "source": [
    "df.KWH[0]"
   ]
  },
  {
   "cell_type": "code",
   "execution_count": null,
   "id": "718c18a5-525b-4c21-a367-f8d73addf497",
   "metadata": {},
   "outputs": [],
   "source": []
  }
 ],
 "metadata": {
  "kernelspec": {
   "display_name": "Python 3 (ipykernel)",
   "language": "python",
   "name": "python3"
  },
  "language_info": {
   "codemirror_mode": {
    "name": "ipython",
    "version": 3
   },
   "file_extension": ".py",
   "mimetype": "text/x-python",
   "name": "python",
   "nbconvert_exporter": "python",
   "pygments_lexer": "ipython3",
   "version": "3.11.1"
  }
 },
 "nbformat": 4,
 "nbformat_minor": 5
}
