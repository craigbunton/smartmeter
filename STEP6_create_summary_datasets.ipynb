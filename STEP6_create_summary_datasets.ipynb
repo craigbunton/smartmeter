{
 "cells": [
  {
   "cell_type": "markdown",
   "metadata": {},
   "source": [
    "In this notebook we read each consumer's csv file and create a dataframe with which to generate a single line of summary data"
   ]
  },
  {
   "cell_type": "code",
   "execution_count": null,
   "metadata": {},
   "outputs": [],
   "source": [
    "import pandas as pd\n",
    "import os\n",
    "\n",
    "seasons = [\"winter_wd\", \"winter_we\", \"summer_wd\", \"summer_we\"]\n",
    "# FIRST Setup a summary dataframe which we can write to a csv at the end.\n",
    "# The summary df will include a row for each LCLid\n",
    "# Each row will contain the LCLid in the first columnn then the following\n",
    "# 24 columns will be the hourly mean() for the season.\n",
    "\n",
    "# Create a list of strings containing the two-digit number from 00 to 23\n",
    "# These will be our column names for the hourly data columns.\n",
    "hourly_cols = [str(hour).zfill(2) for hour in range(24)]\n",
    "\n",
    "# THEN loop through the seasons to create winter we/wd and summmer we/wd summary dataframes\n",
    "for season in seasons:\n",
    "    directory = \"data_2013/\" + season\n",
    "\n",
    "    # Set up the summary df for each season\n",
    "    summary_df = pd.DataFrame(columns=[\"LCLid\"] + hourly_cols)\n",
    "\n",
    "    # Now loop through the each seasonal folder and read each consumer's csv file\n",
    "    # into a temporary dataframe and then calculate the mean KWH for each hour.\n",
    "    # Then add the mean KWH values to the summary row.\n",
    "\n",
    "    for filename in os.listdir(directory):\n",
    "\n",
    "        if filename.startswith(\"MAC\") and filename.endswith(\".csv\"):\n",
    "            LCLid = filename.split(\".\")[0]\n",
    "            print(\"Processing: \", season, LCLid)\n",
    "            df = pd.read_csv(directory + \"/\" + filename, parse_dates=[\"HourlyDateTime\"])\n",
    "\n",
    "            df[\"Time\"] = df[\"HourlyDateTime\"].dt.time\n",
    "            df.drop(\"HourlyDateTime\", axis=1, inplace=True)\n",
    "\n",
    "            # Now calculate the mean KWH for each hour into a list\n",
    "            mean_kwh_list = list(df.groupby([\"Time\"])[\"KWH\"].mean())\n",
    "\n",
    "            # Now make a dictionary of column names and values by zipping the two lists\n",
    "            mean_kwh = dict(zip(hourly_cols, mean_kwh_list))\n",
    "\n",
    "            # Add a summary row to summary_df which contains \"LCLid\" and hourly mean values\n",
    "            summary_row = {\"LCLid\": LCLid, **mean_kwh}\n",
    "\n",
    "            # now add the summary_row to the summary_df using loc(len(df))\n",
    "            summary_df.loc[len(summary_df)] = summary_row\n",
    "\n",
    "    summary_df.to_csv(f\"data_2013/summary/{season}.csv\", index=False)\n",
    "\n"
   ]
  }
 ],
 "metadata": {
  "kernelspec": {
   "display_name": ".venv",
   "language": "python",
   "name": "python3"
  },
  "language_info": {
   "codemirror_mode": {
    "name": "ipython",
    "version": 3
   },
   "file_extension": ".py",
   "mimetype": "text/x-python",
   "name": "python",
   "nbconvert_exporter": "python",
   "pygments_lexer": "ipython3",
   "version": "3.11.8"
  }
 },
 "nbformat": 4,
 "nbformat_minor": 2
}
